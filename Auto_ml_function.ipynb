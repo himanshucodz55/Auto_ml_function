{
 "cells": [
  {
   "cell_type": "code",
   "execution_count": 57,
   "metadata": {},
   "outputs": [],
   "source": [
    "def algoRandomForest(df,ls):\n",
    "# 1. Remove NULL value from the Dataset.\n",
    "    df=df.dropna()\n",
    "# 2. Remove redundent column from the Dataset Which will decrease the value of dataset.\n",
    "    for i in ls:\n",
    "        if i==\"Name\":\n",
    "            df=df.drop(i,axis=1)\n",
    "            ls.remove(i)\n",
    "        if i==\"Address\":\n",
    "            df=df.drop(i,axis=1)\n",
    "        if i==\"Mobile_No\":\n",
    "            df=df.drop(i,axis=1)\n",
    "# 3. Set Target value.\n",
    "    y=df.iloc[:,-1].values\n",
    "    \n",
    "# 4. Set Input value.\n",
    "    X=df.iloc[:,:-1]   \n",
    "    \n",
    "# 5. (optional) If we want to use sklearn LabelEncoder and OneHotEncoder.\n",
    "#     for i in ls:\n",
    "#         if i==\"Sex\" or i==\"Gender\":\n",
    "#             labelencoder_X = LabelEncoder()\n",
    "#             X[:,list(df.columns.values).index(i)] = labelencoder_X.fit_transform(X[:, list(df.columns.values).index(i)])\n",
    "#         else:\n",
    "#             ct = ColumnTransformer([(i, OneHotEncoder(), [list(df.columns.values).index(i)])], remainder = 'passthrough')\n",
    "#             X = ct.fit_transform(X)\n",
    "\n",
    "# 6. If the given list of feature object is not null then it will do Encoding using pandas.\n",
    "    if(len(ls)>0):\n",
    "        X = pd.get_dummies(X, columns = ls)\n",
    "        \n",
    "# 7. LabelEncoder for Target value.\n",
    "    labelencoder_y=LabelEncoder()\n",
    "    y = labelencoder_y.fit_transform(y)\n",
    "    \n",
    "    X=X.values\n",
    "    print(\"shape: \",X.shape)\n",
    "    \n",
    "# 8. Split the Dataset into Train and Test.\n",
    "    X_train,X_test,y_train,y_test=train_test_split(X,y,test_size=0.2,random_state=0)\n",
    "    \n",
    "# 9. Scaling the values of Input data.\n",
    "    sc_X=StandardScaler()\n",
    "    X_train=sc_X.fit_transform(X_train)\n",
    "    X_test=sc_X.fit_transform(X_test)\n",
    "    \n",
    "# 10. RandomForest model initilization.\n",
    "    model = RandomForestClassifier(n_estimators=600)\n",
    "    \n",
    "# 11. Fit the train and test vlaues into dataset.  \n",
    "    model.fit(X_train, y_train)\n",
    "    \n",
    "# 12. save the model to disk\n",
    "    filename = 'finalized_model.sav'\n",
    "    pickle.dump(model, open(filename, 'wb'))\n",
    "    \n",
    "# 13.load the model from disk\n",
    "    loaded_model = pickle.load(open(filename, 'rb'))\n",
    "    \n",
    "# 14. Predict the the output.\n",
    "    model_pred = loaded_model.predict(X_test)\n",
    "    \n",
    "# 15. For result analysis we use confusion matrix.\n",
    "    cm=confusion_matrix(model_pred,y_test)\n",
    "    \n",
    "# 16. Print the heatmap of confusion matrix.\n",
    "    print(sns.heatmap(cm,annot=True))\n",
    "    print(confusion_matrix(y_test,model_pred))\n",
    "    \n",
    "# 17. Print the classification report.\n",
    "    print(classification_report(y_test,model_pred))\n",
    "    \n",
    "# 18. print the Accuracy of model\n",
    "    result = loaded_model.score(X_test, y_test)\n",
    "    print(\"Accuracy: \",result)"
   ]
  },
  {
   "cell_type": "code",
   "execution_count": 58,
   "metadata": {},
   "outputs": [],
   "source": [
    "# Import all the useful libraries.\n",
    "import pandas as pd\n",
    "import pickle\n",
    "import numpy as np\n",
    "import matplotlib.pyplot as plt\n",
    "import seaborn as sns\n",
    "%matplotlib inline\n",
    "from sklearn.metrics import confusion_matrix,classification_report\n",
    "from sklearn.ensemble import RandomForestClassifier\n",
    "from sklearn.model_selection import train_test_split\n",
    "from sklearn.preprocessing import StandardScaler\n",
    "from sklearn.preprocessing import LabelEncoder,OneHotEncoder\n",
    "from sklearn.ensemble import RandomForestClassifier\n",
    "from sklearn.metrics import classification_report,confusion_matrix\n"
   ]
  },
  {
   "cell_type": "code",
   "execution_count": 60,
   "metadata": {},
   "outputs": [
    {
     "name": "stdout",
     "output_type": "stream",
     "text": [
      "shape:  (331, 11)\n",
      "AxesSubplot(0.125,0.125;0.62x0.755)\n",
      "[[39  0]\n",
      " [ 0 28]]\n",
      "              precision    recall  f1-score   support\n",
      "\n",
      "           0       1.00      1.00      1.00        39\n",
      "           1       1.00      1.00      1.00        28\n",
      "\n",
      "    accuracy                           1.00        67\n",
      "   macro avg       1.00      1.00      1.00        67\n",
      "weighted avg       1.00      1.00      1.00        67\n",
      "\n",
      "Accuracy:  1.0\n"
     ]
    },
    {
     "data": {
      "image/png": "[encoded data removed]",
      "text/plain": [
       "<Figure size 432x288 with 2 Axes>"
      ]
     },
     "metadata": {
      "needs_background": "light"
     },
     "output_type": "display_data"
    }
   ],
   "source": [
    "# input the dataset from user.\n",
    "data=pd.read_csv('./input/titnic_prob.csv')\n",
    "# just pass the dataset and object parameter as list in given function.\n",
    "# if any objects in dataset i.e.: [\"Gender\",\"Place\"]\n",
    "# for titanic dataset\n",
    "algoRandomForest(data,[\"Name\",\"Sex\",\"Embarked\"])\n",
    "# for heart dataset\n",
    "# algoRandomForest(data,[\"\"])  \n"
   ]
  },
  {
   "cell_type": "code",
   "execution_count": null,
   "metadata": {},
   "outputs": [],
   "source": []
  }
 ],
 "metadata": {
  "kernelspec": {
   "display_name": "Python 3",
   "language": "python",
   "name": "python3"
  },
  "language_info": {
   "codemirror_mode": {
    "name": "ipython",
    "version": 3
   },
   "file_extension": ".py",
   "mimetype": "text/x-python",
   "name": "python",
   "nbconvert_exporter": "python",
   "pygments_lexer": "ipython3",
   "version": "3.8.3"
  }
 },
 "nbformat": 4,
 "nbformat_minor": 4
}
